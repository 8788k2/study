{
 "cells": [
  {
   "cell_type": "markdown",
   "metadata": {},
   "source": [
    "# 자동제어특강"
   ]
  },
  {
   "cell_type": "markdown",
   "metadata": {},
   "source": [
    "자동제어특강에서 배운 내용을 정리하는 것을 목표로 한다."
   ]
  },
  {
   "cell_type": "markdown",
   "metadata": {},
   "source": [
    "## 1. 시스템이란?"
   ]
  },
  {
   "cell_type": "markdown",
   "metadata": {},
   "source": [
    "**시스템은 크게 상태, 입력, 출력으로 구성된다.**"
   ]
  },
  {
   "cell_type": "markdown",
   "metadata": {},
   "source": [
    "상태 (𝑥) : 입력을 받아 변화하는 시스템 내부의 변수들 (미분방정식의 해)\n",
    "\n",
    "입력 (𝑢): 시스템을 외부에서 조작하는 변수 (미분방정식의 우변)\n",
    "\n",
    "출력 (𝑦) : 관측 가능한 변수 (센서 등으로 실제로 측정 가능한 값들) "
   ]
  },
  {
   "cell_type": "markdown",
   "metadata": {},
   "source": [
    "대표적인 역학적 시스템인 매스-스프링-댐퍼 시스템을 수학적으로 모델링하는 과정을 따라가며 더욱 자세히 알아보겠다."
   ]
  },
  {
   "cell_type": "markdown",
   "metadata": {},
   "source": [
    "어떤 질량(m)을 가진 물체에 스프링을 연결하고 댐퍼를 통해 충격을 상쇄시킬 수 있도록 하고 거기에 힘(F)를 가할 수 있도록 설계된 시스템을 생각해보자."
   ]
  },
  {
   "cell_type": "markdown",
   "metadata": {},
   "source": [
    "### 1.1 상태 변수 \n",
    "위 시스템에서 질량을 가진 물체의 위치를 ${x}$, 속도는 $\\dot{x}$, 가속도는 $\\ddot{x}$라고 하면 이들이 바로 시스템의 상태를 나타내는 상태변수들이 된다.\n",
    " \n"
   ]
  },
  {
   "cell_type": "markdown",
   "metadata": {},
   "source": [
    "### 1.2  미분방정식을 통한 시스템 표현"
   ]
  },
  {
   "cell_type": "markdown",
   "metadata": {},
   "source": [
    "이제 시스템을 위 상태변수들에 대한 미분방정식으로 표현할 수 있다.\n",
    "\n",
    "물체에 연결되어 있는 스프링의 스프링 상수를 k, 댐퍼의 감쇠 계수를 c라고 하자.\n",
    "\n",
    "물체에 힘($F$)가 전달되면 댐퍼와 스프링은 각각 그 반대 방향으로 힘($F_d$, $F_S$)을 만들어낸다.\n",
    "\n",
    "물체의 가속도는 물체의 질량과 그에 가해지는 전체 힘의 합으로 결정되므로 아래와 같이 수식을 쓸 수 있다.\n",
    "\n",
    "$$\n",
    "m\\ddot{x} = F - (F_d + F_s)\n",
    "$$\n",
    "\n",
    "댐퍼는 감쇠계수와 물체의 속도에 비래하여 저항을 주므로 아래와 같이 다시 쓸 수 있다.\n",
    "$$\n",
    "F_d = c\\dot{x}\n",
    "$$\n",
    "\n",
    "스프링이 가하는 힘은 스프링 상수와 스프링이 늘어난 정도, 즉 물체의 위치에 비례하므로 아래와 같이 쓸 수 있다.\n",
    "$$\n",
    "F_S = kx\n",
    "$$\n",
    "\n",
    "위 식들을 잘 정리하면 아래의 식을 얻을 수 있다.\n",
    "$$\n",
    "m\\ddot{x} + c\\dot{x} + kx = F\n",
    "$$\n"
   ]
  },
  {
   "cell_type": "markdown",
   "metadata": {},
   "source": [
    "### 1.3 입력"
   ]
  },
  {
   "cell_type": "markdown",
   "metadata": {},
   "source": [
    "여기서 힘 $F$가 시스템에서의 입력이다.\n",
    "따라서 위 식은 다시 아래와 같이 최종적으로 주어진다.\n",
    "$$\n",
    "m\\ddot{x} + c\\dot{x} + kx = u(t)\n",
    "$$\n",
    "\n",
    "미분방정식의 우변, 즉 입력에 따라 그 방정식의 해 $x$가 변화할 것이이다. \n",
    "\n",
    "**상태를 원하는데로 변화시키는 것이 제어이므로 입력을 통해 상태 함수를 원하는 함수(t에 따라 어디로 수렴?)로 바꿀지가 제어의 핵심이라고 할 수 있다.**\n",
    "\n",
    "매스-스프링-댐퍼 시스템 뿐 아니라 수 많은 시스템들 dc모터, inverted pendulum 등이 미분방정식으로 기술 될 수 있으므로 이를 다루는 것 역시 제어의 핵심이다.\n",
    "\n"
   ]
  },
  {
   "cell_type": "markdown",
   "metadata": {},
   "source": [
    "### 1.3 상태방정식\n",
    "제어공학에서는 시스템의 미분방정식을 상태 공간 모델 (상태방정식)으로 변환하여 사용한다.\n",
    "\n",
    "위의 매스-스프링-댐퍼 시스템의 미분 방정식을 상태공간 모델로 변환해보자\n",
    "\n",
    "#### 상태 변수 정의\n",
    "$$\n",
    "x_1 = x\n",
    "$$\n",
    "\n",
    "$$\n",
    "x_2 = \\dot{x}\n",
    "$$\n",
    "\n",
    "#### 상태방정식(state equation)\n",
    "$$\n",
    "\\begin{bmatrix} \n",
    "\\dot{x}_1 \\\\ \\dot{x}_2\n",
    "\\end{bmatrix}\n",
    "=\n",
    "\\begin{bmatrix} \n",
    "0 & 1 \\\\ \n",
    "-\\frac{k}{m} & -\\frac{c}{m} \n",
    "\\end{bmatrix}\n",
    "\\begin{bmatrix} \n",
    "x_1 \\\\ x_2\n",
    "\\end{bmatrix}\n",
    "+\n",
    "\\begin{bmatrix} \n",
    "0 \\\\ \\frac{1}{m}\n",
    "\\end{bmatrix}\n",
    "u\n",
    "$$\n",
    "\n"
   ]
  },
  {
   "cell_type": "markdown",
   "metadata": {},
   "source": [
    "## 3. 옵저버"
   ]
  },
  {
   "cell_type": "markdown",
   "metadata": {},
   "source": [
    "시스템의 상태를 직접 알기 어려운 경우가 있다. dc모터의 회전 수나, 모바일 로봇의 정확한 위치 등은 정확히 알기 어렵다.\n",
    "\n",
    "하지만 라이다, 휠오도메트리 등의 센서 데이터, DC모터의 전류 등의 출력은 우리가 알 수 있다.\n",
    "\n",
    "\n",
    "그러므로, 시스템의 출력을 이용해 상태를 추정하는 것이 옵저버의 핵심 개념이다.\n",
    "\n",
    "출력과 출력추정값의 오차를 피드백해주어 옵저버 방정식을 정의하면 상태 추정 함수($\\hat{x}$)는 상태 함수와의 오차가 0이 되게 설계할 수 있다. \n",
    "\n",
    "$$ \\dot{\\hat{x}} = A\\hat{x} + Bu + L(y - C\\hat{x}) $$\n",
    "\n",
    "\n",
    "위와 같이 옵저버 방정식을 정의하면 다음과 같은 오차방정식을 유도할 수 있다.\n",
    "\n",
    "$$\n",
    "\\dot{e} = \\dot{x} - \\dot{\\hat{x}}\n",
    "$$\n",
    "\n",
    "$$\n",
    "\\dot{e} = (A x + B u) - (A \\hat{x} + B u + L C x - L C \\hat{x})\n",
    "$$\n",
    "\n",
    "$$\n",
    "\\dot{e} = A x + B u - A \\hat{x} - B u - L C x + L C \\hat{x}\n",
    "$$\n",
    "\n",
    "$$\n",
    "\\dot{e} = A x - A \\hat{x} - L C x + L C \\hat{x}\n",
    "$$\n",
    "\n",
    "$$\n",
    "\\dot{e} = (A - L C)e\n",
    "$$\n",
    "\n",
    "#출력과 상태가 맺는 관계 C매트릭스를 정확히 정의하는 것 역시 중요한 포인트이며, 이 과정에 칼만필터 등의 알고리즘을 적용할 수 있다."
   ]
  },
  {
   "cell_type": "markdown",
   "metadata": {},
   "source": [
    "### 3.1 옵저버 설계\n",
    "\n",
    "2차 시스템에서는 L을 잘 정의하여 오차함수의 폴이 좌반 평면에 존재하도록 하는 것이 주 관심사이다. \n",
    "\n",
    "inverted pendulum은 4차 시스템이다. 기본은 역시 L을 잘 설계하여 폴이 모두 좌반 평면에 존재하도록 하는 것인데, Routh - Hurwitz 판별법에서 루스 배열의 모든 값이 양수여야 하는 이유도 그에 따른 것이다.\n",
    "\n",
    "따라서 $det(sI - A +LC)$ 값의 실수부가 모두 0보다 작게하는 L을 선택하면 된다.\n",
    "\n",
    "이렇게 적절한 응답특성을 갖도록 폴을 직접 선택하여 L을 설계하는 방식을 pole placemet 방식이라고 한다.\n",
    "\n",
    "\n",
    "또 다른 L설계 방식으로 최적화 이론이 적용된 **LQR(Linear Quadratic Regulation)** 방법이 있다. "
   ]
  },
  {
   "cell_type": "markdown",
   "metadata": {},
   "source": [
    "### 3.1.1 LQR \n",
    "비용 함수(Cost Function)를 최소화하도록 \\( L \\) 을 결정하는 것이 목표이다.\n",
    "\n",
    "$$\n",
    "J = \\int_0^\\infty (e_x^T Q e_x + u^T R u) dt\n",
    "$$\n",
    "\n",
    "여기서:\n",
    "- $Q$ : 상태 추정 오차를 최소화하는 가중치 행렬\n",
    "- $R$ : 옵저버의 입력 감도를 조절하는 가중치 행렬\n",
    "\n",
    "LQR 옵저버 게인 \\( L \\) 은 다음 **리카티 방정식 (Riccati Equation)** 을 풀어 계산된다.\n",
    "\n",
    "$$\n",
    "A^T P + P A - P C^T R^{-1} C P + Q = 0\n",
    "$$\n",
    "\n",
    "그 후 옵저버 게인은:\n",
    "\n",
    "$$\n",
    "L = P C^T R^{-1}\n",
    "$$\n",
    "\n",
    "이와 같이 최적화된 옵저버 게인 \\( L \\) 을 얻을 수 있다.\n",
    "\n",
    "---\n",
    "\n",
    "#### \\( R \\) 값의 의미 및 옵저버의 입력 민감성\n",
    "**\\( R \\) 값이 작은 경우**\n",
    "- 옵저버가 입력 \\( u \\) 에 **민감하게 반응**한다.\n",
    "- 빠른 응답을 가지지만, **센서 노이즈에도 민감**하여 불안정할 수 있다.\n",
    "\n",
    "**\\( R \\) 값이 큰 경우**\n",
    "- 옵저버가 입력 \\( u \\) 를 덜 신뢰하고, **출력 \\( y \\) 를 더 신뢰**한다.\n",
    "- 하지만, **응답 속도가 너무 느려질 수 있음**.\n",
    "  \n",
    "#### 옵저버가 입력 U에 대해 민감하다의 의미\n",
    "- 작은 입력 변화에도(노이즈 등) $\\hat{x}$이 매우 빠르게 민감하게 변화함.\n",
    "- 예를들어 노이즈가 포함된 입력에 대한 상태, 즉 실제 상태를 X1, 노이즈가 포함되지 않은 입력에 대한 상태를 X2라고 하자. 옵저버 즉 $\\hat{x}$은 노이즈가 포함되지 않은 입력으로 계산되기에 X2에 수렴할테니 $\\hat{x}$이 너무 빠르게 x2에 수렴하면 x1과의 오차가 누적된다. 따라서 u의 작은 변화에 대해 $\\hat{x}$이 원래의 특성을 유지하며 적당한 속도로 수렴하도록 만들면 보다 강인한 옵저버를 만들 수 있다.\n",
    "\n",
    "#### \\( R \\) 값을 적절하게 조절하는 중요성\n",
    "- \\( R \\) 값을 너무 작게 하면 **빠르지만 노이즈에 취약**한 옵저버가 됨.\n",
    "- \\( R \\) 값을 너무 크게 하면 **안정적이지만 반응이 둔한** 옵저버가 됨.\n",
    "- 따라서 **실제 시스템의 요구 사항에 따라 \\( R \\) 값을 적절하게 조절하는 것이 중요**하다\n",
    "\n"
   ]
  },
  {
   "cell_type": "markdown",
   "metadata": {},
   "source": [
    "### 3.1.2 inverted pendulum 시스템의 옵저버 설계 예제\n",
    "Q와 R 값(MATRIX)은 임의로 설정한 채로 LQR 방식을 적용하여 옵저버를 시뮬레이션 해보자."
   ]
  },
  {
   "cell_type": "code",
   "execution_count": null,
   "metadata": {
    "vscode": {
     "languageId": "plaintext"
    }
   },
   "outputs": [],
   "source": [
    "import numpy as np\n",
    "import scipy.linalg as la\n",
    "import matplotlib.pyplot as plt\n",
    "\n",
    "# 시스템 매트릭스 정의\n",
    "A = np.array([[0, 1, 0, 0],\n",
    "              [0, 0, -9.8, 0],\n",
    "              [0, 0, 0, 1],\n",
    "              [0, 0, 19.6, 0]])\n",
    "\n",
    "B = np.array([[0], [1], [0], [-1]])\n",
    "\n",
    "C = np.array([[1, 0, 0, 0]])  # 위치 측정\n",
    "\n",
    "# LQR을 이용한 옵저버 설계\n",
    "Q = np.diag([10, 1, 10, 1])  # 상태 오차 최소화\n",
    "R = np.eye(1)  # 측정 노이즈 감도 조절\n",
    "\n",
    "# 리카티 방정식 풀이\n",
    "P = la.solve_continuous_are(A.T, C.T, Q, R)\n",
    "\n",
    "# 옵저버 게인 L 계산\n",
    "L = np.dot(np.linalg.inv(R), np.dot(C, P))\n",
    "\n",
    "# 시뮬레이션 설정\n",
    "dt = 0.01  # 시간 간격\n",
    "T = 5      # 총 시뮬레이션 시간\n",
    "N = int(T / dt)  # 스텝 개수\n",
    "\n",
    "# 초기 상태 설정\n",
    "x = np.array([[0.5], [0], [0.1], [0]])  # 실제 초기 상태 (x, x_dot, theta, theta_dot)\n",
    "x_hat = np.zeros((4, 1))  # 옵저버 초기 상태 (초기 추정치를 0으로 설정)\n",
    "\n",
    "# 상태 기록용 배열\n",
    "x_history = []\n",
    "x_hat_history = []\n",
    "\n",
    "# 시뮬레이션 루프\n",
    "for i in range(N):\n",
    "    # 실제 시스템의 동역학 업데이트\n",
    "    x = x + dt * (A @ x + B * 0)  # 입력은 0으로 가정\n",
    "    \n",
    "    # 측정값 (출력)\n",
    "    y = C @ x + np.random.normal(0, 0.01, (1, 1))  # 노이즈 추가\n",
    "    \n",
    "    # 옵저버 업데이트\n",
    "    x_hat = x_hat + dt * (A @ x_hat + B * 0 + L.T @ (y - C @ x_hat))\n",
    "    \n",
    "    # 기록\n",
    "    x_history.append(x.flatten())\n",
    "    x_hat_history.append(x_hat.flatten())\n",
    "\n",
    "# NumPy 배열 변환\n",
    "x_history = np.array(x_history)\n",
    "x_hat_history = np.array(x_hat_history)\n",
    "\n",
    "# 그래프 그리기\n",
    "plt.figure(figsize=(10, 6))\n",
    "\n",
    "labels = [\"Position x\", \"Velocity x_dot\", \"Angle θ\", \"Angular velocity θ_dot\"]\n",
    "for i in range(4):\n",
    "    plt.subplot(2, 2, i+1)\n",
    "    plt.plot(np.linspace(0, T, N), x_history[:, i], label=\"True \" + labels[i])\n",
    "    plt.plot(np.linspace(0, T, N), x_hat_history[:, i], '--', label=\"Estimated \" + labels[i])\n",
    "    plt.legend()\n",
    "    plt.xlabel(\"Time (s)\")\n",
    "    plt.ylabel(labels[i])\n",
    "\n",
    "plt.suptitle(\"State Estimation using LQR Observer\")\n",
    "plt.tight_layout()\n",
    "plt.show()\n"
   ]
  }
 ],
 "metadata": {
  "language_info": {
   "name": "python"
  }
 },
 "nbformat": 4,
 "nbformat_minor": 2
}
